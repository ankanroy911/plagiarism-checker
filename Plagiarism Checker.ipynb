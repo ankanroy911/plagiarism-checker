{
 "cells": [
  {
   "cell_type": "code",
   "execution_count": 1,
   "id": "1e8f056a",
   "metadata": {},
   "outputs": [],
   "source": [
    "!pip install sentence-transformers PyMuPDF ipywidgets --quiet\n"
   ]
  },
  {
   "cell_type": "code",
   "execution_count": 6,
   "id": "9ec4914b",
   "metadata": {},
   "outputs": [
    {
     "name": "stderr",
     "output_type": "stream",
     "text": [
      "[nltk_data] Downloading package stopwords to C:\\Users\\ANKAN\n",
      "[nltk_data]     ROY\\AppData\\Roaming\\nltk_data...\n",
      "[nltk_data]   Package stopwords is already up-to-date!\n"
     ]
    },
    {
     "data": {
      "application/vnd.jupyter.widget-view+json": {
       "model_id": "0a3db44572454fd49e62b4bc4cf062b0",
       "version_major": 2,
       "version_minor": 0
      },
      "text/plain": [
       "HTML(value='<h3>📤 Upload Notes for DBMS (Multiple files allowed)</h3>')"
      ]
     },
     "metadata": {},
     "output_type": "display_data"
    },
    {
     "data": {
      "application/vnd.jupyter.widget-view+json": {
       "model_id": "620e1503c8b8486084b15e4a14fbc701",
       "version_major": 2,
       "version_minor": 0
      },
      "text/plain": [
       "FileUpload(value=(), accept='.pdf', description='Upload', multiple=True)"
      ]
     },
     "metadata": {},
     "output_type": "display_data"
    },
    {
     "data": {
      "application/vnd.jupyter.widget-view+json": {
       "model_id": "f864c86ed96c4e28bd3ea7852cfe180d",
       "version_major": 2,
       "version_minor": 0
      },
      "text/plain": [
       "HTML(value='<h3>📤 Upload Notes for COA (Multiple files allowed)</h3>')"
      ]
     },
     "metadata": {},
     "output_type": "display_data"
    },
    {
     "data": {
      "application/vnd.jupyter.widget-view+json": {
       "model_id": "f94ead1163494ca99bbdd5bd0c4137af",
       "version_major": 2,
       "version_minor": 0
      },
      "text/plain": [
       "FileUpload(value=(), accept='.pdf', description='Upload', multiple=True)"
      ]
     },
     "metadata": {},
     "output_type": "display_data"
    },
    {
     "data": {
      "application/vnd.jupyter.widget-view+json": {
       "model_id": "fecec5d5041c4c82884ddecff3cac0aa",
       "version_major": 2,
       "version_minor": 0
      },
      "text/plain": [
       "HTML(value='<h3>🧑\\u200d🎓 Student Submission</h3>')"
      ]
     },
     "metadata": {},
     "output_type": "display_data"
    },
    {
     "data": {
      "application/vnd.jupyter.widget-view+json": {
       "model_id": "0478411e12c542948c790e2a3eafd8e4",
       "version_major": 2,
       "version_minor": 0
      },
      "text/plain": [
       "Text(value='', description='Name:')"
      ]
     },
     "metadata": {},
     "output_type": "display_data"
    },
    {
     "data": {
      "application/vnd.jupyter.widget-view+json": {
       "model_id": "d857a21a693e47d0b2acae1730a13a48",
       "version_major": 2,
       "version_minor": 0
      },
      "text/plain": [
       "Textarea(value='', layout=Layout(height='150px', width='100%'), placeholder='Write your assignment answer here…"
      ]
     },
     "metadata": {},
     "output_type": "display_data"
    },
    {
     "data": {
      "application/vnd.jupyter.widget-view+json": {
       "model_id": "3fbff443aa644bc0bcb136e2766508fd",
       "version_major": 2,
       "version_minor": 0
      },
      "text/plain": [
       "HTML(value='<h4>📎 Or upload assignment as PDF</h4>')"
      ]
     },
     "metadata": {},
     "output_type": "display_data"
    },
    {
     "data": {
      "application/vnd.jupyter.widget-view+json": {
       "model_id": "d65c4ba0c3614f7bbd663411ab48d411",
       "version_major": 2,
       "version_minor": 0
      },
      "text/plain": [
       "FileUpload(value=(), accept='.pdf', description='Upload')"
      ]
     },
     "metadata": {},
     "output_type": "display_data"
    },
    {
     "data": {
      "application/vnd.jupyter.widget-view+json": {
       "model_id": "75d96b1c63da4642afec0ac7e51b0a24",
       "version_major": 2,
       "version_minor": 0
      },
      "text/plain": [
       "Dropdown(description='Subject:', options=('Select Subject', 'DBMS', 'Computer Organization'), style=Descriptio…"
      ]
     },
     "metadata": {},
     "output_type": "display_data"
    },
    {
     "data": {
      "application/vnd.jupyter.widget-view+json": {
       "model_id": "af0463a6389f4634bc4dcca4ef278b90",
       "version_major": 2,
       "version_minor": 0
      },
      "text/plain": [
       "Button(button_style='success', description='Check Plagiarism', style=ButtonStyle())"
      ]
     },
     "metadata": {},
     "output_type": "display_data"
    },
    {
     "data": {
      "application/vnd.jupyter.widget-view+json": {
       "model_id": "0d77d5957f7946248e8b3ba1c71efa8f",
       "version_major": 2,
       "version_minor": 0
      },
      "text/plain": [
       "Output()"
      ]
     },
     "metadata": {},
     "output_type": "display_data"
    }
   ],
   "source": [
    "# 📚 Imports\n",
    "import fitz  # PyMuPDF\n",
    "from sentence_transformers import SentenceTransformer, util\n",
    "import ipywidgets as widgets\n",
    "from IPython.display import display, HTML\n",
    "import torch\n",
    "import time\n",
    "import re\n",
    "from nltk.corpus import stopwords\n",
    "import nltk\n",
    "\n",
    "nltk.download('stopwords')\n",
    "stop_words = set(stopwords.words('english'))\n",
    "\n",
    "# 🔌 Load the SentenceTransformer model\n",
    "model = SentenceTransformer('all-MiniLM-L6-v2')\n",
    "\n",
    "# 📄 Extract text from PDF\n",
    "def extract_text_from_pdf(file_content):\n",
    "    doc = fitz.open(stream=file_content, filetype=\"pdf\")\n",
    "    text = \"\"\n",
    "    for page in doc:\n",
    "        text += page.get_text()\n",
    "    return text\n",
    "\n",
    "# 🧹 Clean text (remove stopwords & special characters)\n",
    "def clean_text(text):\n",
    "    text = re.sub(r'[^a-zA-Z\\s]', '', text)  # remove special characters\n",
    "    text = text.lower()\n",
    "    words = text.split()\n",
    "    filtered_words = [word for word in words if word not in stop_words]\n",
    "    return ' '.join(filtered_words)\n",
    "\n",
    "# ✂️ Split into chunks\n",
    "def chunk_text(text, chunk_size=100):\n",
    "    words = text.split()\n",
    "    return [' '.join(words[i:i+chunk_size]) for i in range(0, len(words), chunk_size)]\n",
    "\n",
    "# 🧠 Plagiarism Calculation\n",
    "def calculate_chunked_plagiarism(study_texts, student_text):\n",
    "    all_chunks = []\n",
    "    for study_text in study_texts:\n",
    "        cleaned_text = clean_text(study_text)\n",
    "        all_chunks.extend(chunk_text(cleaned_text))\n",
    "\n",
    "    chunk_embeddings = model.encode(all_chunks, convert_to_tensor=True)\n",
    "    student_embedding = model.encode(clean_text(student_text), convert_to_tensor=True)\n",
    "    similarities = util.pytorch_cos_sim(student_embedding, chunk_embeddings)[0]\n",
    "    max_similarity = float(similarities.max().item())\n",
    "    return round(max_similarity * 100, 2), all_chunks, similarities\n",
    "\n",
    "# ===========================\n",
    "# 📤 Faculty Upload - Multiple PDFs\n",
    "# ===========================\n",
    "pdf_uploader_dbms = widgets.FileUpload(accept='.pdf', multiple=True)\n",
    "pdf_uploader_coa = widgets.FileUpload(accept='.pdf', multiple=True)\n",
    "display(widgets.HTML(\"<h3>📤 Upload Notes for DBMS (Multiple files allowed)</h3>\"))\n",
    "display(pdf_uploader_dbms)\n",
    "display(widgets.HTML(\"<h3>📤 Upload Notes for COA (Multiple files allowed)</h3>\"))\n",
    "display(pdf_uploader_coa)\n",
    "\n",
    "# ===========================\n",
    "# 🧑‍🎓 Student Inputs\n",
    "# ===========================\n",
    "student_name = widgets.Text(description=\"Name:\")\n",
    "student_text = widgets.Textarea(\n",
    "    placeholder=\"Write your assignment answer here...\",\n",
    "    layout=widgets.Layout(width='100%', height='150px')\n",
    ")\n",
    "student_pdf_upload = widgets.FileUpload(accept='.pdf', multiple=False)\n",
    "\n",
    "subject_dropdown = widgets.Dropdown(\n",
    "    options=['Select Subject', 'DBMS', 'Computer Organization'],\n",
    "    value='Select Subject',\n",
    "    description='Subject:',\n",
    "    style={'description_width': 'initial'}\n",
    ")\n",
    "\n",
    "display(widgets.HTML(\"<h3>🧑‍🎓 Student Submission</h3>\"))\n",
    "display(student_name, student_text)\n",
    "display(widgets.HTML(\"<h4>📎 Or upload assignment as PDF</h4>\"))\n",
    "display(student_pdf_upload)\n",
    "display(subject_dropdown)\n",
    "\n",
    "# ===========================\n",
    "# 🖱️ Button + Output Area\n",
    "# ===========================\n",
    "check_button = widgets.Button(description=\"Check Plagiarism\", button_style='success')\n",
    "output = widgets.Output()\n",
    "display(check_button, output)\n",
    "\n",
    "# ===========================\n",
    "# ▶️ On Button Click\n",
    "# ===========================\n",
    "def on_button_click(b):\n",
    "    with output:\n",
    "        output.clear_output()\n",
    "\n",
    "        if not student_name.value.strip():\n",
    "            print(\"❌ Please enter your name.\")\n",
    "            return\n",
    "\n",
    "        subject = subject_dropdown.value\n",
    "        if subject == 'Select Subject':\n",
    "            print(\"❌ Please select a subject.\")\n",
    "            return\n",
    "\n",
    "        # 📥 Fetch faculty files\n",
    "        if subject == 'DBMS':\n",
    "            uploaded_files = list(pdf_uploader_dbms.value)\n",
    "        elif subject == 'Computer Organization':\n",
    "            uploaded_files = list(pdf_uploader_coa.value)\n",
    "        else:\n",
    "            uploaded_files = []\n",
    "\n",
    "        if not uploaded_files:\n",
    "            print(f\"❌ Please upload at least one PDF for {subject} notes.\")\n",
    "            return\n",
    "\n",
    "        # 🧾 Fetch student input\n",
    "        if student_pdf_upload.value:\n",
    "            student_pdf = list(student_pdf_upload.value.values())[0]\n",
    "            student_text_raw = extract_text_from_pdf(student_pdf['content'])\n",
    "        elif student_text.value.strip():\n",
    "            student_text_raw = student_text.value\n",
    "        else:\n",
    "            print(\"❌ Please either write your assignment or upload a PDF.\")\n",
    "            return\n",
    "\n",
    "        # Spinner\n",
    "        display(HTML(\"\"\"\n",
    "        <style>\n",
    "        .loader {\n",
    "            border: 6px solid #f3f3f3;\n",
    "            border-top: 6px solid #3498db;\n",
    "            border-radius: 50%;\n",
    "            width: 40px;\n",
    "            height: 40px;\n",
    "            animation: spin 1s linear infinite;\n",
    "            margin: auto;\n",
    "        }\n",
    "        @keyframes spin {\n",
    "            0% { transform: rotate(0deg); }\n",
    "            100% { transform: rotate(360deg); }\n",
    "        }\n",
    "        </style>\n",
    "        <div style=\"text-align:center; margin-top:20px;\">\n",
    "            <div class=\"loader\"></div>\n",
    "            <p style=\"color:#3498db; font-size:18px;\">Analyzing Plagiarism...</p>\n",
    "        </div>\n",
    "        \"\"\"))\n",
    "        time.sleep(2)\n",
    "\n",
    "        # 📚 Extract faculty notes\n",
    "        study_texts = [extract_text_from_pdf(f['content']) for f in uploaded_files]\n",
    "\n",
    "        # 🔍 Check plagiarism\n",
    "        plagiarism_percent, chunks, similarities = calculate_chunked_plagiarism(study_texts, student_text_raw)\n",
    "        unique_percent = 100 - plagiarism_percent\n",
    "\n",
    "        # 🎓 Grade\n",
    "        if plagiarism_percent <= 10:\n",
    "            grade, remark, emoji = \"A+\", \"Excellent! Original work.\", \"🌟\"\n",
    "        elif plagiarism_percent <= 30:\n",
    "            grade, remark, emoji = \"B\", \"Good effort, but some copied content found.\", \"👍\"\n",
    "        elif plagiarism_percent <= 50:\n",
    "            grade, remark, emoji = \"C\", \"Fair attempt, moderate plagiarism.\", \"🤔\"\n",
    "        elif plagiarism_percent <= 70:\n",
    "            grade, remark, emoji = \"D\", \"Needs improvement. High plagiarism detected.\", \"⚠️\"\n",
    "        else:\n",
    "            grade, remark, emoji = \"F\", \"Unacceptable. Mostly plagiarized.\", \"❌\"\n",
    "\n",
    "        result = \"PASS\" if plagiarism_percent <= 30 else \"FAIL\"\n",
    "        marks = max(0, 100 - plagiarism_percent)\n",
    "\n",
    "        # Highlight matches\n",
    "        threshold = 0.65\n",
    "        matched_chunks = [chunks[i] for i, sim in enumerate(similarities) if sim >= threshold]\n",
    "        highlighted_matches = \"<br><br>\".join([f\"<span style='background:yellow;'>{match}</span>\" for match in matched_chunks]) or \"No strong matches found.\"\n",
    "\n",
    "        output.clear_output()\n",
    "        display(HTML(f\"\"\"\n",
    "        <style>\n",
    "        .card {{\n",
    "            padding:25px; \n",
    "            border-radius:20px; \n",
    "            text-align:center; \n",
    "            flex:1; \n",
    "            color:white; \n",
    "            animation: fadeIn 0.6s ease; \n",
    "            backdrop-filter: blur(10px);\n",
    "            transition: transform 0.3s ease-in-out, box-shadow 0.3s ease-in-out;\n",
    "        }}\n",
    "        .plagiarism {{\n",
    "            background: rgba(255, 0, 0, 0.6);\n",
    "        }}\n",
    "        .unique {{\n",
    "            background: rgba(76, 175, 80, 0.6);\n",
    "        }}\n",
    "        .percent {{\n",
    "            font-size: 40px;\n",
    "            font-weight:bold;\n",
    "            margin-top: 10px;\n",
    "        }}\n",
    "        .label {{\n",
    "            font-size:22px; \n",
    "            margin-bottom:15px;\n",
    "            font-weight:500;\n",
    "        }}\n",
    "        .card:hover {{\n",
    "            transform: scale(1.05);\n",
    "            box-shadow: 0 0 20px rgba(255, 255, 255, 0.6);\n",
    "        }}\n",
    "        .plagiarism:hover {{\n",
    "            background: rgba(255, 0, 0, 1);\n",
    "            box-shadow: 0 0 25px rgba(255, 0, 0, 1);\n",
    "        }}\n",
    "        .unique:hover {{\n",
    "            background: rgba(76, 175, 80, 1);\n",
    "            box-shadow: 0 0 25px rgba(76, 175, 80, 1);\n",
    "        }}\n",
    "        </style>\n",
    "\n",
    "        <div style=\"display:flex; gap:30px; margin-top:20px;\">\n",
    "            <div class=\"card plagiarism\">\n",
    "                <div class=\"label\">Plagiarism</div>\n",
    "                <div class=\"percent\">{plagiarism_percent}%</div>\n",
    "            </div>\n",
    "            <div class=\"card unique\">\n",
    "                <div class=\"label\">Unique</div>\n",
    "                <div class=\"percent\">{unique_percent}%</div>\n",
    "            </div>\n",
    "        </div>\n",
    "\n",
    "        <div style=\"margin-top:20px; font-size:18px;\">\n",
    "            <strong>Student:</strong> {student_name.value} <br>\n",
    "            <strong>Subject:</strong> {subject} <br>\n",
    "            <strong>Grade:</strong> {grade} {emoji} <br>\n",
    "            <strong>Remark:</strong> {remark} <br>\n",
    "            <strong>Result:</strong> {result} <br>\n",
    "            <strong>Marks (out of 100):</strong> {marks}\n",
    "        </div>\n",
    "\n",
    "        <div style=\"margin-top:25px;\">\n",
    "            <h4>🔍 <u>Matched Content:</u></h4>\n",
    "            <div style=\"background:#f9f9f9; padding:15px; border-radius:12px; border:1px solid #ccc; font-size:15px;\">\n",
    "                {highlighted_matches}\n",
    "            </div>\n",
    "        </div>\n",
    "        \"\"\"))\n",
    "\n",
    "# 🔗 Connect button\n",
    "check_button.on_click(on_button_click)\n"
   ]
  },
  {
   "cell_type": "code",
   "execution_count": null,
   "id": "819876d9",
   "metadata": {},
   "outputs": [],
   "source": []
  }
 ],
 "metadata": {
  "kernelspec": {
   "display_name": "Python 3 (ipykernel)",
   "language": "python",
   "name": "python3"
  },
  "language_info": {
   "codemirror_mode": {
    "name": "ipython",
    "version": 3
   },
   "file_extension": ".py",
   "mimetype": "text/x-python",
   "name": "python",
   "nbconvert_exporter": "python",
   "pygments_lexer": "ipython3",
   "version": "3.11.5"
  }
 },
 "nbformat": 4,
 "nbformat_minor": 5
}
